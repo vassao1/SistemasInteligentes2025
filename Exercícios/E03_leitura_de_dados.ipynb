{
  "nbformat": 4,
  "nbformat_minor": 0,
  "metadata": {
    "colab": {
      "provenance": []
    },
    "kernelspec": {
      "name": "python3",
      "display_name": "Python 3"
    },
    "language_info": {
      "name": "python"
    }
  },
  "cells": [
    {
      "cell_type": "code",
      "metadata": {
        "id": "cKYMrg1_FpW_"
      },
      "source": [
        "#@title\n",
        "%%capture\n",
        "!rm -rf *\n",
        "!gdown '1BLyWu9zDytBTGR6vLL-UTSAZhpwRQD6b'\n",
        "!gdown '1a5jY17w-SINzRRdq2iH6SFEQiS_ZaAKj'\n",
        "!gdown '1RmUz5LqBQbfn02hvPdwP4ICpWVfa_bTV'\n",
        "!gdown '1ZkG09pQDz29mOFR5VTMPEirvwClVNj_F'\n",
        "!gdown '14zHXla8960NSNjqzf2j1ip8pFYqGyPRJ'\n",
        "!gdown '1KNQKU68Y_XtFN2AS0guGpKDmiMM3YNij'\n",
        "!gdown '1R9LZJw-lvngWOVSInKNhKNkvTPpuS0KI'\n",
        "!gdown '11vJUJtgumou5hkM1a8TribAXkHDlSpz_'\n",
        "!gdown '1jNFpdEtEbtcMgd51K6pjEvjB0hCFEI_E'\n",
        "!gdown '1dNZ8LvkczzE1oOdh_S7cu3Z5eG4T4EqG'\n",
        "!pip install git+https://github.com/grading/gradememaybe.git\n",
        "\n",
        "from IPython.display import YouTubeVideo\n",
        "from gofer import ok"
      ],
      "execution_count": 1,
      "outputs": []
    },
    {
      "cell_type": "markdown",
      "metadata": {
        "id": "F9uRXrRQCPUT"
      },
      "source": [
        "# 1 Upload do Arquivo\n",
        "\n",
        "Use o espaço abaixo para fazer o upload do arquivo para o ambiente do Google Colab. Para isso você pode usar o comando `gdown` (lembre-se de colocar o sinal de exclamação `!` para chamar comandos na linha de comando, fora do Python)."
      ]
    },
    {
      "cell_type": "code",
      "metadata": {
        "id": "1_gkoGa0B2qK",
        "outputId": "59768e92-1f7a-47fe-db6a-42ebbda18c64",
        "colab": {
          "base_uri": "https://localhost:8080/"
        }
      },
      "source": [
        "# Seu código aqui\n",
        "!gdown \"1d3NbjXro_BfnYpFm66ETBfe7ubAZPAoL\""
      ],
      "execution_count": 2,
      "outputs": [
        {
          "output_type": "stream",
          "name": "stdout",
          "text": [
            "Downloading...\n",
            "From: https://drive.google.com/uc?id=1d3NbjXro_BfnYpFm66ETBfe7ubAZPAoL\n",
            "To: /content/Iris.csv\n",
            "\r  0% 0.00/5.11k [00:00<?, ?B/s]\r100% 5.11k/5.11k [00:00<00:00, 11.8MB/s]\n"
          ]
        }
      ]
    },
    {
      "cell_type": "code",
      "metadata": {
        "id": "jUnzAmJaF-NA",
        "outputId": "3858ad4b-6535-4ef1-a2c7-b32c67db3b31",
        "colab": {
          "base_uri": "https://localhost:8080/",
          "height": 46
        }
      },
      "source": [
        "ok.check('e03_1.py')"
      ],
      "execution_count": 3,
      "outputs": [
        {
          "output_type": "execute_result",
          "data": {
            "text/plain": [
              "<gofer.ok.OKTestsResult at 0x7cd88d50f850>"
            ],
            "text/html": [
              "\n",
              "    \n",
              "    \n",
              "        <p>All tests passed!</p>\n",
              "    \n",
              "    "
            ]
          },
          "metadata": {},
          "execution_count": 3
        }
      ]
    },
    {
      "cell_type": "markdown",
      "metadata": {
        "id": "jLT4YiBZInaI"
      },
      "source": [
        "# 2 Leitura do Arquivo\n",
        "\n",
        "Escreva um laço que leia todas as linhas do arquivo, criando uma lista numa variável de nome 'd0', onde cada elemento da lista é uma string que corresponde a uma linha do arquivo."
      ]
    },
    {
      "cell_type": "code",
      "metadata": {
        "id": "r0ErgTEHJFHa"
      },
      "source": [
        "# Seu código aqui\n",
        "d0 = []\n",
        "\n",
        "with open('Iris.csv', 'r') as f:\n",
        "  for linha in f:\n",
        "    d0.append(linha)\n"
      ],
      "execution_count": 4,
      "outputs": []
    },
    {
      "cell_type": "code",
      "metadata": {
        "id": "Qc2PA9M5K0Aj",
        "outputId": "3ff60698-9431-4817-f22a-af8e56eafb4f",
        "colab": {
          "base_uri": "https://localhost:8080/",
          "height": 46
        }
      },
      "source": [
        "ok.check('e03_2.py')"
      ],
      "execution_count": 5,
      "outputs": [
        {
          "output_type": "execute_result",
          "data": {
            "text/plain": [
              "<gofer.ok.OKTestsResult at 0x7cd88c31c590>"
            ],
            "text/html": [
              "\n",
              "    \n",
              "    \n",
              "        <p>All tests passed!</p>\n",
              "    \n",
              "    "
            ]
          },
          "metadata": {},
          "execution_count": 5
        }
      ]
    },
    {
      "cell_type": "markdown",
      "metadata": {
        "id": "l484x8LxMIuX"
      },
      "source": [
        "# 3 Remoção de Cabeçalho e Contagem de Linhas\n",
        "\n",
        "Utilizando a mesma variável `d0`, agora remova o cabeçalho (que deve ser o primeiro elemento da lista), e conte as linhas de dados. Grave o total de linhas numa variável de nome `total`."
      ]
    },
    {
      "cell_type": "code",
      "metadata": {
        "id": "wJf05VUmMG8S"
      },
      "source": [
        "# Seu código aqui\n",
        "d0.pop(0)\n",
        "total = len(d0)"
      ],
      "execution_count": 6,
      "outputs": []
    },
    {
      "cell_type": "code",
      "metadata": {
        "id": "enzMyPuXNStY",
        "outputId": "0ef49ace-ab96-4f17-a273-5faf954037ac",
        "colab": {
          "base_uri": "https://localhost:8080/",
          "height": 46
        }
      },
      "source": [
        "ok.check('e03_3.py')"
      ],
      "execution_count": 7,
      "outputs": [
        {
          "output_type": "execute_result",
          "data": {
            "text/plain": [
              "<gofer.ok.OKTestsResult at 0x7cd88c31e150>"
            ],
            "text/html": [
              "\n",
              "    \n",
              "    \n",
              "        <p>All tests passed!</p>\n",
              "    \n",
              "    "
            ]
          },
          "metadata": {},
          "execution_count": 7
        }
      ]
    },
    {
      "cell_type": "markdown",
      "metadata": {
        "id": "QkryWu5dOa76"
      },
      "source": [
        "# 4 Remoção de Novas Linhas\n",
        "\n",
        "Crie uma nova lista numa variável de nome `d1` onde cada elemento de `d1` corresponda à versão do mesmo elemento em `d0`, removendo o caractere de nova linha `\\n` que aparece ao final de cada item. Assegure-se de que cada elemento da lista `d1` seja uma string simples (dependendo como você fez o upload, pode acontecer dos elementos estarem codificados, então decodifique caso necessário)."
      ]
    },
    {
      "cell_type": "code",
      "metadata": {
        "id": "7Chnp2TNOxH8"
      },
      "source": [
        "# Seu código aqui\n",
        "\n",
        "d1 = []\n",
        "for linha in d0:\n",
        "  d1.append(linha.strip())"
      ],
      "execution_count": 8,
      "outputs": []
    },
    {
      "cell_type": "code",
      "metadata": {
        "id": "vDTFG50XP9Xt",
        "outputId": "7b3a6d90-c13b-4ff2-db40-7d28a3d04941",
        "colab": {
          "base_uri": "https://localhost:8080/",
          "height": 46
        }
      },
      "source": [
        "ok.check('e03_4.py')"
      ],
      "execution_count": 9,
      "outputs": [
        {
          "output_type": "execute_result",
          "data": {
            "text/plain": [
              "<gofer.ok.OKTestsResult at 0x7cd88ddd16d0>"
            ],
            "text/html": [
              "\n",
              "    \n",
              "    \n",
              "        <p>All tests passed!</p>\n",
              "    \n",
              "    "
            ]
          },
          "metadata": {},
          "execution_count": 9
        }
      ]
    },
    {
      "cell_type": "markdown",
      "metadata": {
        "id": "xjcb4NF-Skxg"
      },
      "source": [
        "# 5 Separação por Vírgulas\n",
        "\n",
        "Crie uma nova lista em uma variável de nome `d2` onde cada elemento dessa lista seja uma sublista contendo as strings correspondentes a cada dado da string original, usando a vírgula como separador.\n",
        "\n",
        "Por exemplo, transforme isso:\n",
        "\n",
        "`'14,4.3,3.0,1.1,0.1,Iris-setosa'`\n",
        "\n",
        "nisso:\n",
        "\n",
        "`['14', '4.3', '3.0', '1.1', '0.1', 'Iris-setosa']`\n",
        "\n",
        "Faça isso para todos elementos, na mesma ordem da lista original, gravando o resultado em `d2`.\n"
      ]
    },
    {
      "cell_type": "code",
      "metadata": {
        "id": "s08w5UV6Tij9"
      },
      "source": [
        "# Seu código aqui\n",
        "\n",
        "d2 = []\n",
        "for linha in d1:\n",
        "  d2.append(linha.split(\",\"))"
      ],
      "execution_count": 10,
      "outputs": []
    },
    {
      "cell_type": "code",
      "metadata": {
        "id": "7S7f_WeTUN_g",
        "outputId": "bc67576c-ebc3-4ede-d4d9-29513a0ed786",
        "colab": {
          "base_uri": "https://localhost:8080/",
          "height": 46
        }
      },
      "source": [
        "ok.check('e03_5.py')"
      ],
      "execution_count": 11,
      "outputs": [
        {
          "output_type": "execute_result",
          "data": {
            "text/plain": [
              "<gofer.ok.OKTestsResult at 0x7cd88c2dac90>"
            ],
            "text/html": [
              "\n",
              "    \n",
              "    \n",
              "        <p>All tests passed!</p>\n",
              "    \n",
              "    "
            ]
          },
          "metadata": {},
          "execution_count": 11
        }
      ]
    },
    {
      "cell_type": "markdown",
      "metadata": {
        "id": "bczh-ZCWVNyX"
      },
      "source": [
        "# 6 Entradas de Treinamento\n",
        "\n",
        "Crie uma matriz no formato `array` do NumPy, numa variável de nome `d3`, contendo todos os dados da segunda, terceira, quarta e quinta colunas de `d2` transformados para o formato ponto flutuante (convertendo de string para número). Não inclua nem a primeira coluna (que é o id), nem a última coluna nessa conversão. Essa será a matriz de entradas."
      ]
    },
    {
      "cell_type": "code",
      "metadata": {
        "id": "18CrGLTJVMlG"
      },
      "source": [
        "# Escreva seu código aqui\n",
        "import numpy as np\n",
        "\n",
        "d3 = []\n",
        "for linha in d2:\n",
        "  d3.append([float(linha[1]), float(linha[2]), float(linha[3]), float(linha[4])])\n",
        "d3 = np.array(d3)\n"
      ],
      "execution_count": 12,
      "outputs": []
    },
    {
      "cell_type": "code",
      "metadata": {
        "id": "SZDaonjRW_Yk",
        "outputId": "f58937bd-7d81-4719-8b99-559c2cf6beec",
        "colab": {
          "base_uri": "https://localhost:8080/",
          "height": 46
        }
      },
      "source": [
        "ok.check('e03_6.py')"
      ],
      "execution_count": 13,
      "outputs": [
        {
          "output_type": "execute_result",
          "data": {
            "text/plain": [
              "<gofer.ok.OKTestsResult at 0x7cd88c343850>"
            ],
            "text/html": [
              "\n",
              "    \n",
              "    \n",
              "        <p>All tests passed!</p>\n",
              "    \n",
              "    "
            ]
          },
          "metadata": {},
          "execution_count": 13
        }
      ]
    },
    {
      "cell_type": "markdown",
      "metadata": {
        "id": "4RPaGiqvX2R7"
      },
      "source": [
        "# 7 Saídas Desejadas\n",
        "\n",
        "Crie um `array` do NumPy para as saídas desejadas, no formado _one-hot_. Para isso utilize as strings da última coluna de `d2`, verificando qual espécie de planta se refere cada string:\n",
        "\n",
        " `'Iris-setosa'` $\\rightarrow$ `[1.0, 0.0, 0.0]`\n",
        "\n",
        " `'Iris-versicolor'` $\\rightarrow$ `[0.0, 1.0, 0.0]`\n",
        "\n",
        " `'Iris-virginica'` $\\rightarrow$ `[0.0, 0.0, 1.0]`\n",
        "\n",
        " Grave o resultado em um `array` do NumPy de nome `d4`, com o mesmo número de linhas de `d3`, onde cada linha de `d4` corresponde ao vetor _one-hot_ da saída desejada da respectiva linha de entradas de `d4`."
      ]
    },
    {
      "cell_type": "code",
      "metadata": {
        "id": "BOUZLeZaY2cr"
      },
      "source": [
        "# Escreva seu código aqui\n",
        "labels = []\n",
        "\n",
        "for label in d2:\n",
        "  labels.append(label[5])\n",
        "\n",
        "d4 = []\n",
        "\n",
        "for label in labels:\n",
        "  if label == \"Iris-setosa\":\n",
        "    d4.append([1.0, 0.0, 0.0])\n",
        "  elif label == \"Iris-versicolor\":\n",
        "    d4.append([0.0, 1.0, 0.0])\n",
        "  else:\n",
        "    d4.append([0.0, 0.0, 1.0])\n",
        "\n",
        "d4 = np.array(d4)\n"
      ],
      "execution_count": 14,
      "outputs": []
    },
    {
      "cell_type": "code",
      "metadata": {
        "id": "jwvATLI4cKue",
        "outputId": "a2ee0d39-5582-46c4-82ff-5b7b866cb242",
        "colab": {
          "base_uri": "https://localhost:8080/",
          "height": 46
        }
      },
      "source": [
        "ok.check('e03_7.py')"
      ],
      "execution_count": 15,
      "outputs": [
        {
          "output_type": "execute_result",
          "data": {
            "text/plain": [
              "<gofer.ok.OKTestsResult at 0x7cd88c342310>"
            ],
            "text/html": [
              "\n",
              "    \n",
              "    \n",
              "        <p>All tests passed!</p>\n",
              "    \n",
              "    "
            ]
          },
          "metadata": {},
          "execution_count": 15
        }
      ]
    },
    {
      "cell_type": "markdown",
      "metadata": {
        "id": "M2hG7fHQccol"
      },
      "source": [
        "# 8 Normalização das Entradas\n",
        "\n",
        "Encontre o valor máximo e mínimo para cada uma das quatro colunas da matriz de entradas. Normalize os valores das entradas no intervalo entre zero e um, salvando o resultado em um `array` do NumPy de nome `d5`."
      ]
    },
    {
      "cell_type": "code",
      "metadata": {
        "id": "6LJLMP4GdNaB",
        "colab": {
          "base_uri": "https://localhost:8080/"
        },
        "outputId": "1ecd593c-b5e7-4504-a072-9ff1596d4c6b"
      },
      "source": [
        "# Escreva seu código aqui\n",
        "maximo = np.amax(d3, axis=0)\n",
        "minimo = np.amin(d3, axis=0)\n",
        "\n",
        "d5 = (d3 - minimo) / (maximo - minimo)\n",
        "\n",
        "d5"
      ],
      "execution_count": 18,
      "outputs": [
        {
          "output_type": "execute_result",
          "data": {
            "text/plain": [
              "array([[0.22222222, 0.625     , 0.06779661, 0.04166667],\n",
              "       [0.16666667, 0.41666667, 0.06779661, 0.04166667],\n",
              "       [0.11111111, 0.5       , 0.05084746, 0.04166667],\n",
              "       [0.08333333, 0.45833333, 0.08474576, 0.04166667],\n",
              "       [0.19444444, 0.66666667, 0.06779661, 0.04166667],\n",
              "       [0.30555556, 0.79166667, 0.11864407, 0.125     ],\n",
              "       [0.08333333, 0.58333333, 0.06779661, 0.08333333],\n",
              "       [0.19444444, 0.58333333, 0.08474576, 0.04166667],\n",
              "       [0.02777778, 0.375     , 0.06779661, 0.04166667],\n",
              "       [0.16666667, 0.45833333, 0.08474576, 0.        ],\n",
              "       [0.30555556, 0.70833333, 0.08474576, 0.04166667],\n",
              "       [0.13888889, 0.58333333, 0.10169492, 0.04166667],\n",
              "       [0.13888889, 0.41666667, 0.06779661, 0.        ],\n",
              "       [0.        , 0.41666667, 0.01694915, 0.        ],\n",
              "       [0.41666667, 0.83333333, 0.03389831, 0.04166667],\n",
              "       [0.38888889, 1.        , 0.08474576, 0.125     ],\n",
              "       [0.30555556, 0.79166667, 0.05084746, 0.125     ],\n",
              "       [0.22222222, 0.625     , 0.06779661, 0.08333333],\n",
              "       [0.38888889, 0.75      , 0.11864407, 0.08333333],\n",
              "       [0.22222222, 0.75      , 0.08474576, 0.08333333],\n",
              "       [0.30555556, 0.58333333, 0.11864407, 0.04166667],\n",
              "       [0.22222222, 0.70833333, 0.08474576, 0.125     ],\n",
              "       [0.08333333, 0.66666667, 0.        , 0.04166667],\n",
              "       [0.22222222, 0.54166667, 0.11864407, 0.16666667],\n",
              "       [0.13888889, 0.58333333, 0.15254237, 0.04166667],\n",
              "       [0.19444444, 0.41666667, 0.10169492, 0.04166667],\n",
              "       [0.19444444, 0.58333333, 0.10169492, 0.125     ],\n",
              "       [0.25      , 0.625     , 0.08474576, 0.04166667],\n",
              "       [0.25      , 0.58333333, 0.06779661, 0.04166667],\n",
              "       [0.11111111, 0.5       , 0.10169492, 0.04166667],\n",
              "       [0.13888889, 0.45833333, 0.10169492, 0.04166667],\n",
              "       [0.30555556, 0.58333333, 0.08474576, 0.125     ],\n",
              "       [0.25      , 0.875     , 0.08474576, 0.        ],\n",
              "       [0.33333333, 0.91666667, 0.06779661, 0.04166667],\n",
              "       [0.16666667, 0.45833333, 0.08474576, 0.        ],\n",
              "       [0.19444444, 0.5       , 0.03389831, 0.04166667],\n",
              "       [0.33333333, 0.625     , 0.05084746, 0.04166667],\n",
              "       [0.16666667, 0.45833333, 0.08474576, 0.        ],\n",
              "       [0.02777778, 0.41666667, 0.05084746, 0.04166667],\n",
              "       [0.22222222, 0.58333333, 0.08474576, 0.04166667],\n",
              "       [0.19444444, 0.625     , 0.05084746, 0.08333333],\n",
              "       [0.05555556, 0.125     , 0.05084746, 0.08333333],\n",
              "       [0.02777778, 0.5       , 0.05084746, 0.04166667],\n",
              "       [0.19444444, 0.625     , 0.10169492, 0.20833333],\n",
              "       [0.22222222, 0.75      , 0.15254237, 0.125     ],\n",
              "       [0.13888889, 0.41666667, 0.06779661, 0.08333333],\n",
              "       [0.22222222, 0.75      , 0.10169492, 0.04166667],\n",
              "       [0.08333333, 0.5       , 0.06779661, 0.04166667],\n",
              "       [0.27777778, 0.70833333, 0.08474576, 0.04166667],\n",
              "       [0.19444444, 0.54166667, 0.06779661, 0.04166667],\n",
              "       [0.75      , 0.5       , 0.62711864, 0.54166667],\n",
              "       [0.58333333, 0.5       , 0.59322034, 0.58333333],\n",
              "       [0.72222222, 0.45833333, 0.66101695, 0.58333333],\n",
              "       [0.33333333, 0.125     , 0.50847458, 0.5       ],\n",
              "       [0.61111111, 0.33333333, 0.61016949, 0.58333333],\n",
              "       [0.38888889, 0.33333333, 0.59322034, 0.5       ],\n",
              "       [0.55555556, 0.54166667, 0.62711864, 0.625     ],\n",
              "       [0.16666667, 0.16666667, 0.38983051, 0.375     ],\n",
              "       [0.63888889, 0.375     , 0.61016949, 0.5       ],\n",
              "       [0.25      , 0.29166667, 0.49152542, 0.54166667],\n",
              "       [0.19444444, 0.        , 0.42372881, 0.375     ],\n",
              "       [0.44444444, 0.41666667, 0.54237288, 0.58333333],\n",
              "       [0.47222222, 0.08333333, 0.50847458, 0.375     ],\n",
              "       [0.5       , 0.375     , 0.62711864, 0.54166667],\n",
              "       [0.36111111, 0.375     , 0.44067797, 0.5       ],\n",
              "       [0.66666667, 0.45833333, 0.57627119, 0.54166667],\n",
              "       [0.36111111, 0.41666667, 0.59322034, 0.58333333],\n",
              "       [0.41666667, 0.29166667, 0.52542373, 0.375     ],\n",
              "       [0.52777778, 0.08333333, 0.59322034, 0.58333333],\n",
              "       [0.36111111, 0.20833333, 0.49152542, 0.41666667],\n",
              "       [0.44444444, 0.5       , 0.6440678 , 0.70833333],\n",
              "       [0.5       , 0.33333333, 0.50847458, 0.5       ],\n",
              "       [0.55555556, 0.20833333, 0.66101695, 0.58333333],\n",
              "       [0.5       , 0.33333333, 0.62711864, 0.45833333],\n",
              "       [0.58333333, 0.375     , 0.55932203, 0.5       ],\n",
              "       [0.63888889, 0.41666667, 0.57627119, 0.54166667],\n",
              "       [0.69444444, 0.33333333, 0.6440678 , 0.54166667],\n",
              "       [0.66666667, 0.41666667, 0.6779661 , 0.66666667],\n",
              "       [0.47222222, 0.375     , 0.59322034, 0.58333333],\n",
              "       [0.38888889, 0.25      , 0.42372881, 0.375     ],\n",
              "       [0.33333333, 0.16666667, 0.47457627, 0.41666667],\n",
              "       [0.33333333, 0.16666667, 0.45762712, 0.375     ],\n",
              "       [0.41666667, 0.29166667, 0.49152542, 0.45833333],\n",
              "       [0.47222222, 0.29166667, 0.69491525, 0.625     ],\n",
              "       [0.30555556, 0.41666667, 0.59322034, 0.58333333],\n",
              "       [0.47222222, 0.58333333, 0.59322034, 0.625     ],\n",
              "       [0.66666667, 0.45833333, 0.62711864, 0.58333333],\n",
              "       [0.55555556, 0.125     , 0.57627119, 0.5       ],\n",
              "       [0.36111111, 0.41666667, 0.52542373, 0.5       ],\n",
              "       [0.33333333, 0.20833333, 0.50847458, 0.5       ],\n",
              "       [0.33333333, 0.25      , 0.57627119, 0.45833333],\n",
              "       [0.5       , 0.41666667, 0.61016949, 0.54166667],\n",
              "       [0.41666667, 0.25      , 0.50847458, 0.45833333],\n",
              "       [0.19444444, 0.125     , 0.38983051, 0.375     ],\n",
              "       [0.36111111, 0.29166667, 0.54237288, 0.5       ],\n",
              "       [0.38888889, 0.41666667, 0.54237288, 0.45833333],\n",
              "       [0.38888889, 0.375     , 0.54237288, 0.5       ],\n",
              "       [0.52777778, 0.375     , 0.55932203, 0.5       ],\n",
              "       [0.22222222, 0.20833333, 0.33898305, 0.41666667],\n",
              "       [0.38888889, 0.33333333, 0.52542373, 0.5       ],\n",
              "       [0.55555556, 0.54166667, 0.84745763, 1.        ],\n",
              "       [0.41666667, 0.29166667, 0.69491525, 0.75      ],\n",
              "       [0.77777778, 0.41666667, 0.83050847, 0.83333333],\n",
              "       [0.55555556, 0.375     , 0.77966102, 0.70833333],\n",
              "       [0.61111111, 0.41666667, 0.81355932, 0.875     ],\n",
              "       [0.91666667, 0.41666667, 0.94915254, 0.83333333],\n",
              "       [0.16666667, 0.20833333, 0.59322034, 0.66666667],\n",
              "       [0.83333333, 0.375     , 0.89830508, 0.70833333],\n",
              "       [0.66666667, 0.20833333, 0.81355932, 0.70833333],\n",
              "       [0.80555556, 0.66666667, 0.86440678, 1.        ],\n",
              "       [0.61111111, 0.5       , 0.69491525, 0.79166667],\n",
              "       [0.58333333, 0.29166667, 0.72881356, 0.75      ],\n",
              "       [0.69444444, 0.41666667, 0.76271186, 0.83333333],\n",
              "       [0.38888889, 0.20833333, 0.6779661 , 0.79166667],\n",
              "       [0.41666667, 0.33333333, 0.69491525, 0.95833333],\n",
              "       [0.58333333, 0.5       , 0.72881356, 0.91666667],\n",
              "       [0.61111111, 0.41666667, 0.76271186, 0.70833333],\n",
              "       [0.94444444, 0.75      , 0.96610169, 0.875     ],\n",
              "       [0.94444444, 0.25      , 1.        , 0.91666667],\n",
              "       [0.47222222, 0.08333333, 0.6779661 , 0.58333333],\n",
              "       [0.72222222, 0.5       , 0.79661017, 0.91666667],\n",
              "       [0.36111111, 0.33333333, 0.66101695, 0.79166667],\n",
              "       [0.94444444, 0.33333333, 0.96610169, 0.79166667],\n",
              "       [0.55555556, 0.29166667, 0.66101695, 0.70833333],\n",
              "       [0.66666667, 0.54166667, 0.79661017, 0.83333333],\n",
              "       [0.80555556, 0.5       , 0.84745763, 0.70833333],\n",
              "       [0.52777778, 0.33333333, 0.6440678 , 0.70833333],\n",
              "       [0.5       , 0.41666667, 0.66101695, 0.70833333],\n",
              "       [0.58333333, 0.33333333, 0.77966102, 0.83333333],\n",
              "       [0.80555556, 0.41666667, 0.81355932, 0.625     ],\n",
              "       [0.86111111, 0.33333333, 0.86440678, 0.75      ],\n",
              "       [1.        , 0.75      , 0.91525424, 0.79166667],\n",
              "       [0.58333333, 0.33333333, 0.77966102, 0.875     ],\n",
              "       [0.55555556, 0.33333333, 0.69491525, 0.58333333],\n",
              "       [0.5       , 0.25      , 0.77966102, 0.54166667],\n",
              "       [0.94444444, 0.41666667, 0.86440678, 0.91666667],\n",
              "       [0.55555556, 0.58333333, 0.77966102, 0.95833333],\n",
              "       [0.58333333, 0.45833333, 0.76271186, 0.70833333],\n",
              "       [0.47222222, 0.41666667, 0.6440678 , 0.70833333],\n",
              "       [0.72222222, 0.45833333, 0.74576271, 0.83333333],\n",
              "       [0.66666667, 0.45833333, 0.77966102, 0.95833333],\n",
              "       [0.72222222, 0.45833333, 0.69491525, 0.91666667],\n",
              "       [0.41666667, 0.29166667, 0.69491525, 0.75      ],\n",
              "       [0.69444444, 0.5       , 0.83050847, 0.91666667],\n",
              "       [0.66666667, 0.54166667, 0.79661017, 1.        ],\n",
              "       [0.66666667, 0.41666667, 0.71186441, 0.91666667],\n",
              "       [0.55555556, 0.20833333, 0.6779661 , 0.75      ],\n",
              "       [0.61111111, 0.41666667, 0.71186441, 0.79166667],\n",
              "       [0.52777778, 0.58333333, 0.74576271, 0.91666667],\n",
              "       [0.44444444, 0.41666667, 0.69491525, 0.70833333]])"
            ]
          },
          "metadata": {},
          "execution_count": 18
        }
      ]
    },
    {
      "cell_type": "code",
      "metadata": {
        "id": "2Y3LHDt9e4C_",
        "colab": {
          "base_uri": "https://localhost:8080/",
          "height": 46
        },
        "outputId": "8111adbd-6f14-4da3-a402-86d338f16e2e"
      },
      "source": [
        "ok.check('e03_8.py')"
      ],
      "execution_count": 17,
      "outputs": [
        {
          "output_type": "execute_result",
          "data": {
            "text/plain": [
              "<gofer.ok.OKTestsResult at 0x7cd88dd993d0>"
            ],
            "text/html": [
              "\n",
              "    \n",
              "    \n",
              "        <p>All tests passed!</p>\n",
              "    \n",
              "    "
            ]
          },
          "metadata": {},
          "execution_count": 17
        }
      ]
    },
    {
      "cell_type": "markdown",
      "metadata": {
        "id": "2JMfjj63gdsZ"
      },
      "source": [
        "# 9 Embaralhamento dos Dados\n",
        "\n",
        "Misture as linhas dos dados dos valores de entradas de treinamento contidos em `d5` de forma aleatória. Faça o mesmo com as linhas das saídas desejadas em `d4`, de forma a manter a correspondência entre ambos. Chame a `array` resultante de dados de treinamento embaralhado de `x` e a `array` correspondente de saídas desejadas de `y`."
      ]
    },
    {
      "cell_type": "code",
      "metadata": {
        "id": "u0weu3mshbro",
        "colab": {
          "base_uri": "https://localhost:8080/"
        },
        "outputId": "e36e112b-8cb8-4e91-9bb1-074a3733766b"
      },
      "source": [
        "# Escreva seu código aqui\n",
        "\n",
        "d6 = np.hstack((d5, d4))\n",
        "np.random.shuffle(d6)\n",
        "\n",
        "x = d6[:, :4]\n",
        "y = d6[:, 4:]\n"
      ],
      "execution_count": 19,
      "outputs": [
        {
          "output_type": "execute_result",
          "data": {
            "text/plain": [
              "array([[0.58333333, 0.33333333, 0.77966102, ..., 0.        , 0.        ,\n",
              "        1.        ],\n",
              "       [0.22222222, 0.75      , 0.08474576, ..., 1.        , 0.        ,\n",
              "        0.        ],\n",
              "       [0.11111111, 0.5       , 0.05084746, ..., 1.        , 0.        ,\n",
              "        0.        ],\n",
              "       ...,\n",
              "       [0.16666667, 0.41666667, 0.06779661, ..., 1.        , 0.        ,\n",
              "        0.        ],\n",
              "       [0.41666667, 0.29166667, 0.52542373, ..., 0.        , 1.        ,\n",
              "        0.        ],\n",
              "       [0.94444444, 0.41666667, 0.86440678, ..., 0.        , 0.        ,\n",
              "        1.        ]])"
            ]
          },
          "metadata": {},
          "execution_count": 19
        }
      ]
    },
    {
      "cell_type": "code",
      "metadata": {
        "id": "g1OinS58n2eV",
        "colab": {
          "base_uri": "https://localhost:8080/",
          "height": 46
        },
        "outputId": "015307dc-8e38-4193-cb3a-17342e40e8cc"
      },
      "source": [
        "ok.check('e03_9.py')"
      ],
      "execution_count": 20,
      "outputs": [
        {
          "output_type": "execute_result",
          "data": {
            "text/plain": [
              "<gofer.ok.OKTestsResult at 0x7cd88e10b190>"
            ],
            "text/html": [
              "\n",
              "    \n",
              "    \n",
              "        <p>All tests passed!</p>\n",
              "    \n",
              "    "
            ]
          },
          "metadata": {},
          "execution_count": 20
        }
      ]
    },
    {
      "cell_type": "markdown",
      "metadata": {
        "id": "g7RxpU4CoscS"
      },
      "source": [
        "# 10 Separação de Dados de Treinamento e Validação\n",
        "\n",
        "Separe os pares de dados de treinamento e validação nas proporções 90%/10%, respectivamente. Chame a entrada e saída desejada dos pares de treinamento de `x_train` e `y_train`, e use os nomes `x_test` e `y_test` para os dados de validação. Os dados de validação devem corresponder às linhas finais dos pares de `array` originais `x` e `y`."
      ]
    },
    {
      "cell_type": "code",
      "metadata": {
        "id": "cKtuZjXfphhe",
        "colab": {
          "base_uri": "https://localhost:8080/"
        },
        "outputId": "3329e962-cd01-42d3-b3bc-3301c4b46ae0"
      },
      "source": [
        "# Escreva seu código aqui\n",
        "\n",
        "x_train = x[:int(len(x)*0.9)]\n",
        "y_train = y[:int(len(y)*0.9)]\n",
        "\n",
        "x_test = x[int(len(x)*0.9):]\n",
        "y_test = y[int(len(y)*0.9):]\n"
      ],
      "execution_count": 21,
      "outputs": [
        {
          "output_type": "execute_result",
          "data": {
            "text/plain": [
              "((135, 4), (135, 3), (15, 4), (15, 3))"
            ]
          },
          "metadata": {},
          "execution_count": 21
        }
      ]
    },
    {
      "cell_type": "code",
      "metadata": {
        "id": "jLfamQPqpu3w",
        "colab": {
          "base_uri": "https://localhost:8080/",
          "height": 46
        },
        "outputId": "f1bb304f-ac23-4d70-901c-93a4f8e37945"
      },
      "source": [
        "ok.check('e03_10.py')"
      ],
      "execution_count": 22,
      "outputs": [
        {
          "output_type": "execute_result",
          "data": {
            "text/plain": [
              "<gofer.ok.OKTestsResult at 0x7cd874533910>"
            ],
            "text/html": [
              "\n",
              "    \n",
              "    \n",
              "        <p>All tests passed!</p>\n",
              "    \n",
              "    "
            ]
          },
          "metadata": {},
          "execution_count": 22
        }
      ]
    }
  ]
}