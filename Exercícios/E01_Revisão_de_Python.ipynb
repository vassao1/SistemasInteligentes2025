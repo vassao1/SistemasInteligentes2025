{
  "nbformat": 4,
  "nbformat_minor": 0,
  "metadata": {
    "colab": {
      "provenance": []
    },
    "kernelspec": {
      "name": "python3",
      "display_name": "Python 3"
    },
    "language_info": {
      "name": "python"
    }
  },
  "cells": [
    {
      "cell_type": "code",
      "metadata": {
        "id": "eMRulnnoZ-mf"
      },
      "source": [
        "#@title\n",
        "%%capture\n",
        "!rm -rf *\n",
        "!gdown --id '1A0kES7hM_e5JhE3NdSxKH5eTMuFwKAnO'\n",
        "!unzip *.zip\n",
        "!pip install git+https://github.com/grading/gradememaybe.git\n",
        "\n",
        "from IPython.display import YouTubeVideo\n",
        "from gofer import ok"
      ],
      "execution_count": null,
      "outputs": []
    },
    {
      "cell_type": "markdown",
      "metadata": {
        "id": "Q9sF-_ZoqXUM"
      },
      "source": [
        "#E01 - Revisão de Python\n",
        "\n",
        "Faça uma cópia deste documento e siga as instruções abaixo para solucionar os exercícios de $1$ a $7$. Após concluir todos exercícios, preencha o formulário de auto-avaliação para efetuar a entrega."
      ]
    },
    {
      "cell_type": "markdown",
      "metadata": {
        "id": "Z38hdMqo7gdu"
      },
      "source": [
        "# Parte 1 - Álgebra Linear"
      ]
    },
    {
      "cell_type": "code",
      "metadata": {
        "id": "xJoOX1MfamwE"
      },
      "source": [
        "YouTubeVideo('7oYe5Wikdxk')"
      ],
      "execution_count": null,
      "outputs": []
    },
    {
      "cell_type": "markdown",
      "metadata": {
        "id": "Cgv2ooRMuoJ8"
      },
      "source": [
        "## 1\n",
        "\n",
        "Após assistir ao vídeo acima, faça um código que importe a função \"cos\" do módulo \"math\" trocando o nome da função para \"cos1\". No mesmo código, também importe a função \"cos\" do módulo \"numpy\" e troque o nome para \"cos2\"."
      ]
    },
    {
      "cell_type": "code",
      "metadata": {
        "id": "BW3mXuDFV7td"
      },
      "source": [
        "# Seu código aqui\n",
        "from math import cos as cos1\n",
        "from numpy import cos as cos2"
      ],
      "execution_count": null,
      "outputs": []
    },
    {
      "cell_type": "code",
      "metadata": {
        "id": "v059ORwIegV9",
        "outputId": "8bff1dbe-92bf-4e77-c1b7-f5634bea2fc6",
        "colab": {
          "base_uri": "https://localhost:8080/",
          "height": 46
        }
      },
      "source": [
        "ok.check('e01_1.py')"
      ],
      "execution_count": null,
      "outputs": [
        {
          "output_type": "execute_result",
          "data": {
            "text/plain": [
              "<gofer.ok.OKTestsResult at 0x7b65b19e2c50>"
            ],
            "text/html": [
              "\n",
              "    \n",
              "    \n",
              "        <p>All tests passed!</p>\n",
              "    \n",
              "    "
            ]
          },
          "metadata": {},
          "execution_count": 7
        }
      ]
    },
    {
      "cell_type": "code",
      "metadata": {
        "id": "JyM9JPJDvNVm",
        "outputId": "9e81ca23-e770-4b8c-f09c-beee0cfdb7b6",
        "colab": {
          "base_uri": "https://localhost:8080/",
          "height": 321
        }
      },
      "source": [
        "YouTubeVideo('Hv8JslLk4M0')"
      ],
      "execution_count": null,
      "outputs": [
        {
          "output_type": "execute_result",
          "data": {
            "text/plain": [
              "<IPython.lib.display.YouTubeVideo at 0x7ac535470190>"
            ],
            "text/html": [
              "\n",
              "        <iframe\n",
              "            width=\"400\"\n",
              "            height=\"300\"\n",
              "            src=\"https://www.youtube.com/embed/Hv8JslLk4M0\"\n",
              "            frameborder=\"0\"\n",
              "            allowfullscreen\n",
              "            \n",
              "        ></iframe>\n",
              "        "
            ],
            "image/jpeg": "[encoded data removed]"
          },
          "metadata": {},
          "execution_count": 18
        }
      ]
    },
    {
      "cell_type": "markdown",
      "metadata": {
        "id": "S1_2Bdbkvnp7"
      },
      "source": [
        "## 2\n",
        "\n",
        "Mostre o que acontece ao tentar multiplicar uma lista nativa do Python por um número inteiro. Para fazer isso, tome como ponto de partida a lista de nome `a` abaixo, multiplique esta lista por `5`, e salve o resultado numa variável de nome `b`."
      ]
    },
    {
      "cell_type": "code",
      "metadata": {
        "id": "wdtkTDX9vUdU",
        "outputId": "d48a15f2-fe38-428e-de5c-9b8f749c59dc",
        "colab": {
          "base_uri": "https://localhost:8080/"
        }
      },
      "source": [
        "# Escreva seu código abaixo\n",
        "a = [1, 2, 3]\n",
        "b = a*5\n",
        "print(b)"
      ],
      "execution_count": null,
      "outputs": [
        {
          "output_type": "stream",
          "name": "stdout",
          "text": [
            "[1, 2, 3, 1, 2, 3, 1, 2, 3, 1, 2, 3, 1, 2, 3]\n"
          ]
        }
      ]
    },
    {
      "cell_type": "code",
      "metadata": {
        "id": "suBMZunAx_vH",
        "outputId": "46b7e45d-44a5-4bf6-b9ab-ff3d0f6c9514",
        "colab": {
          "base_uri": "https://localhost:8080/",
          "height": 46
        }
      },
      "source": [
        "ok.check('e01_2.py')"
      ],
      "execution_count": null,
      "outputs": [
        {
          "output_type": "execute_result",
          "data": {
            "text/plain": [
              "<gofer.ok.OKTestsResult at 0x7b659a519b90>"
            ],
            "text/html": [
              "\n",
              "    \n",
              "    \n",
              "        <p>All tests passed!</p>\n",
              "    \n",
              "    "
            ]
          },
          "metadata": {},
          "execution_count": 9
        }
      ]
    },
    {
      "cell_type": "markdown",
      "metadata": {
        "id": "1pxt4NzrzCvN"
      },
      "source": [
        "##3\n",
        "\n",
        "Crie uma matriz usando `array` do NumPy, com $100$ linhas (numeradas de $0$ a $99$) e $5$ colunas (numeradas de $0$ a $4$), onde cada elemento da linha $i$ e coluna $j$ é o resultado da multiplicação $i*j$ (onde $i$ e $j$ são inteiros). Grave o resultado na variável `c`."
      ]
    },
    {
      "cell_type": "code",
      "source": [
        "# Seu código aqui\n",
        "import numpy as np\n",
        "c = np.array([[i*j for j in range(5)] for i in range(100)])\n",
        "print(c)\n",
        "print(c.shape)"
      ],
      "metadata": {
        "id": "-TQAaY9eMLct",
        "outputId": "f2734b44-387e-49bd-e8d1-68b41ab44e4f",
        "colab": {
          "base_uri": "https://localhost:8080/"
        }
      },
      "execution_count": null,
      "outputs": [
        {
          "output_type": "stream",
          "name": "stdout",
          "text": [
            "[[  0   0   0   0   0]\n",
            " [  0   1   2   3   4]\n",
            " [  0   2   4   6   8]\n",
            " [  0   3   6   9  12]\n",
            " [  0   4   8  12  16]\n",
            " [  0   5  10  15  20]\n",
            " [  0   6  12  18  24]\n",
            " [  0   7  14  21  28]\n",
            " [  0   8  16  24  32]\n",
            " [  0   9  18  27  36]\n",
            " [  0  10  20  30  40]\n",
            " [  0  11  22  33  44]\n",
            " [  0  12  24  36  48]\n",
            " [  0  13  26  39  52]\n",
            " [  0  14  28  42  56]\n",
            " [  0  15  30  45  60]\n",
            " [  0  16  32  48  64]\n",
            " [  0  17  34  51  68]\n",
            " [  0  18  36  54  72]\n",
            " [  0  19  38  57  76]\n",
            " [  0  20  40  60  80]\n",
            " [  0  21  42  63  84]\n",
            " [  0  22  44  66  88]\n",
            " [  0  23  46  69  92]\n",
            " [  0  24  48  72  96]\n",
            " [  0  25  50  75 100]\n",
            " [  0  26  52  78 104]\n",
            " [  0  27  54  81 108]\n",
            " [  0  28  56  84 112]\n",
            " [  0  29  58  87 116]\n",
            " [  0  30  60  90 120]\n",
            " [  0  31  62  93 124]\n",
            " [  0  32  64  96 128]\n",
            " [  0  33  66  99 132]\n",
            " [  0  34  68 102 136]\n",
            " [  0  35  70 105 140]\n",
            " [  0  36  72 108 144]\n",
            " [  0  37  74 111 148]\n",
            " [  0  38  76 114 152]\n",
            " [  0  39  78 117 156]\n",
            " [  0  40  80 120 160]\n",
            " [  0  41  82 123 164]\n",
            " [  0  42  84 126 168]\n",
            " [  0  43  86 129 172]\n",
            " [  0  44  88 132 176]\n",
            " [  0  45  90 135 180]\n",
            " [  0  46  92 138 184]\n",
            " [  0  47  94 141 188]\n",
            " [  0  48  96 144 192]\n",
            " [  0  49  98 147 196]\n",
            " [  0  50 100 150 200]\n",
            " [  0  51 102 153 204]\n",
            " [  0  52 104 156 208]\n",
            " [  0  53 106 159 212]\n",
            " [  0  54 108 162 216]\n",
            " [  0  55 110 165 220]\n",
            " [  0  56 112 168 224]\n",
            " [  0  57 114 171 228]\n",
            " [  0  58 116 174 232]\n",
            " [  0  59 118 177 236]\n",
            " [  0  60 120 180 240]\n",
            " [  0  61 122 183 244]\n",
            " [  0  62 124 186 248]\n",
            " [  0  63 126 189 252]\n",
            " [  0  64 128 192 256]\n",
            " [  0  65 130 195 260]\n",
            " [  0  66 132 198 264]\n",
            " [  0  67 134 201 268]\n",
            " [  0  68 136 204 272]\n",
            " [  0  69 138 207 276]\n",
            " [  0  70 140 210 280]\n",
            " [  0  71 142 213 284]\n",
            " [  0  72 144 216 288]\n",
            " [  0  73 146 219 292]\n",
            " [  0  74 148 222 296]\n",
            " [  0  75 150 225 300]\n",
            " [  0  76 152 228 304]\n",
            " [  0  77 154 231 308]\n",
            " [  0  78 156 234 312]\n",
            " [  0  79 158 237 316]\n",
            " [  0  80 160 240 320]\n",
            " [  0  81 162 243 324]\n",
            " [  0  82 164 246 328]\n",
            " [  0  83 166 249 332]\n",
            " [  0  84 168 252 336]\n",
            " [  0  85 170 255 340]\n",
            " [  0  86 172 258 344]\n",
            " [  0  87 174 261 348]\n",
            " [  0  88 176 264 352]\n",
            " [  0  89 178 267 356]\n",
            " [  0  90 180 270 360]\n",
            " [  0  91 182 273 364]\n",
            " [  0  92 184 276 368]\n",
            " [  0  93 186 279 372]\n",
            " [  0  94 188 282 376]\n",
            " [  0  95 190 285 380]\n",
            " [  0  96 192 288 384]\n",
            " [  0  97 194 291 388]\n",
            " [  0  98 196 294 392]\n",
            " [  0  99 198 297 396]]\n",
            "(100, 5)\n"
          ]
        }
      ]
    },
    {
      "cell_type": "code",
      "metadata": {
        "id": "xxnQR3gG4Ecl",
        "outputId": "9a072256-c58d-482c-8fab-972ac468f771",
        "colab": {
          "base_uri": "https://localhost:8080/",
          "height": 46
        }
      },
      "source": [
        "ok.check('e01_3.py')"
      ],
      "execution_count": null,
      "outputs": [
        {
          "output_type": "execute_result",
          "data": {
            "text/plain": [
              "<gofer.ok.OKTestsResult at 0x7b659a7011d0>"
            ],
            "text/html": [
              "\n",
              "    \n",
              "    \n",
              "        <p>All tests passed!</p>\n",
              "    \n",
              "    "
            ]
          },
          "metadata": {},
          "execution_count": 11
        }
      ]
    },
    {
      "cell_type": "markdown",
      "metadata": {
        "id": "-oVA5xfG6EwQ"
      },
      "source": [
        "## 4\n",
        "\n",
        "Faça um gráfico da função `y = 1.0 / (1.0 + np.exp(-x))` para $100$ valores de `x` igualmente distribuídos no intervalo entre $-5$ e $+5$. Seguindo o exemplo do vídeo, use linspsace do numpy, e a função plot do pyplot, submódulo do matplotlib. Salve a imagem para fazer upload no formulário de entrega desse exercício.\n"
      ]
    },
    {
      "cell_type": "code",
      "metadata": {
        "id": "s7LODpe16ZUH",
        "outputId": "b2c52fdb-00a2-409b-9e66-6299b0fe4ed8",
        "colab": {
          "base_uri": "https://localhost:8080/",
          "height": 448
        }
      },
      "source": [
        "# Seu código aqui\n",
        "from matplotlib import pyplot as plt\n",
        "x = np.linspace(-5, 5, 100)\n",
        "def func(x):\n",
        "  return 1.0/(1.0+np.exp(-x))\n",
        "y = func(x)\n",
        "plt.plot(x,y)"
      ],
      "execution_count": null,
      "outputs": [
        {
          "output_type": "execute_result",
          "data": {
            "text/plain": [
              "[<matplotlib.lines.Line2D at 0x7b659a703790>]"
            ]
          },
          "metadata": {},
          "execution_count": 12
        },
        {
          "output_type": "display_data",
          "data": {
            "text/plain": [
              "<Figure size 640x480 with 1 Axes>"
            ],
            "image/png": "[encoded data removed]"
          },
          "metadata": {}
        }
      ]
    },
    {
      "cell_type": "markdown",
      "metadata": {
        "id": "6iBiZeWg7lXd"
      },
      "source": [
        "# Parte 2 - Orientação a Objetos"
      ]
    },
    {
      "cell_type": "code",
      "metadata": {
        "id": "r7NCvQK-7J5c",
        "outputId": "a4017f07-552d-4f2d-c9ea-b13219a426d7",
        "colab": {
          "base_uri": "https://localhost:8080/",
          "height": 321
        }
      },
      "source": [
        "YouTubeVideo('TP1aAmGojPg')"
      ],
      "execution_count": null,
      "outputs": [
        {
          "output_type": "execute_result",
          "data": {
            "text/plain": [
              "<IPython.lib.display.YouTubeVideo at 0x7ac5348ac210>"
            ],
            "text/html": [
              "\n",
              "        <iframe\n",
              "            width=\"400\"\n",
              "            height=\"300\"\n",
              "            src=\"https://www.youtube.com/embed/TP1aAmGojPg\"\n",
              "            frameborder=\"0\"\n",
              "            allowfullscreen\n",
              "            \n",
              "        ></iframe>\n",
              "        "
            ],
            "image/jpeg": "[encoded data removed]"
          },
          "metadata": {},
          "execution_count": 31
        }
      ]
    },
    {
      "cell_type": "markdown",
      "metadata": {
        "id": "nKyjsxI-775f"
      },
      "source": [
        "##5\n",
        "\n",
        "Implemente o código das classes `Quadrado` e `Triangulo` como mostrado no vídeo."
      ]
    },
    {
      "cell_type": "code",
      "metadata": {
        "id": "dnmIlMvM77P8"
      },
      "source": [
        "# Escreva seu código aqui\n",
        "class Quadrado:\n",
        "  def __init__(self, lado):\n",
        "    self.lado = lado\n",
        "  def area(self):\n",
        "    return self.lado**2\n",
        "class Triangulo:\n",
        "  def __init__(self, base, altura):\n",
        "    self.base = base\n",
        "    self.altura = altura\n",
        "  def area(self):\n",
        "    return (self.base*self.altura)/2"
      ],
      "execution_count": null,
      "outputs": []
    },
    {
      "cell_type": "code",
      "metadata": {
        "id": "aADwXuQHozDy",
        "outputId": "f7be9ed2-f9f0-401c-ba38-9bb5c12a0c87",
        "colab": {
          "base_uri": "https://localhost:8080/",
          "height": 46
        }
      },
      "source": [
        "ok.check('e01_5.py')"
      ],
      "execution_count": null,
      "outputs": [
        {
          "output_type": "execute_result",
          "data": {
            "text/plain": [
              "<gofer.ok.OKTestsResult at 0x7b659a526c10>"
            ],
            "text/html": [
              "\n",
              "    \n",
              "    \n",
              "        <p>All tests passed!</p>\n",
              "    \n",
              "    "
            ]
          },
          "metadata": {},
          "execution_count": 14
        }
      ]
    },
    {
      "cell_type": "markdown",
      "metadata": {
        "id": "zFsVK1rG791c"
      },
      "source": [
        "## 6\n",
        "\n",
        "No mesmo código acrescente também o código da classe `Circulo`, recebendo o parâmetro `raio` no construtor definindo sua propriedade `raio` e método `area()`. Siga o exemplo das classes `Quadrado` e `Triangulo` modificando apenas onde for necessário.\n"
      ]
    },
    {
      "cell_type": "code",
      "metadata": {
        "id": "l8MkwVpv8CT1"
      },
      "source": [
        "# Escreva seu código aqui\n",
        "\n",
        "class Circulo:\n",
        "  def __init__(self, raio):\n",
        "    self.raio = raio\n",
        "  def area(self):\n",
        "    return np.pi*(self.raio**2)"
      ],
      "execution_count": null,
      "outputs": []
    },
    {
      "cell_type": "code",
      "metadata": {
        "id": "rWtHNS-4c91w",
        "outputId": "cba0f9f7-afed-45e6-b7d3-69df3b66bbcc",
        "colab": {
          "base_uri": "https://localhost:8080/",
          "height": 46
        }
      },
      "source": [
        "ok.check('e01_6.py')"
      ],
      "execution_count": null,
      "outputs": [
        {
          "output_type": "execute_result",
          "data": {
            "text/plain": [
              "<gofer.ok.OKTestsResult at 0x7ac53487a510>"
            ],
            "text/html": [
              "\n",
              "    \n",
              "    \n",
              "        <p>All tests passed!</p>\n",
              "    \n",
              "    "
            ]
          },
          "metadata": {},
          "execution_count": 36
        }
      ]
    },
    {
      "cell_type": "markdown",
      "metadata": {
        "id": "EYdTM5Bud3q_"
      },
      "source": [
        "## 7\n",
        "\n",
        "Utilizando as classes acima, crie uma lista com $20$ objetos de cada classe (total de $60$ objetos), todos com propriedades, tais como `lado`, `base`, `altura` e `raio` aleatórias, todas com valores sorteados no intervalo entre `1` e `10`. Para fazer isso, utilize laço `for` (criando $20$ objetos de cada classe) e para criar as propriedades aleatórias use a função `randint(1,10)` do submódulo `random` do `numpy` (por exemplo, use `from numpy.random import randint` no início do código). Coloque todos objetos em uma única lista (não faça uma lista de listas, mas sim uma única lista, que vai sendo preenchida em cada laço com os $60$ objetos). O nome da variável que deve conter essa lista final deve ser `objs`.\n"
      ]
    },
    {
      "cell_type": "code",
      "metadata": {
        "id": "9SxgVRR-fcoK"
      },
      "source": [
        "# Seu código aqui\n",
        "from numpy.random import randint\n",
        "\n",
        "objs = []\n",
        "\n",
        "for i in range(0, 20):\n",
        "  objs.append(Quadrado(randint(1, 10)))\n",
        "\n",
        "for i in range(0, 20):\n",
        "  objs.append(Triangulo(randint(1, 10), randint(1, 10)))\n",
        "\n",
        "for i in range(0, 20):\n",
        "  objs.append(Circulo(randint(1, 10)))"
      ],
      "execution_count": null,
      "outputs": []
    },
    {
      "cell_type": "code",
      "metadata": {
        "id": "LyFHcLlkgZgt",
        "outputId": "227bc88d-995b-480e-9e21-2af8429b2b13",
        "colab": {
          "base_uri": "https://localhost:8080/",
          "height": 46
        }
      },
      "source": [
        "ok.check('e01_7.py')"
      ],
      "execution_count": null,
      "outputs": [
        {
          "output_type": "execute_result",
          "data": {
            "text/plain": [
              "<gofer.ok.OKTestsResult at 0x7ac531b6e3d0>"
            ],
            "text/html": [
              "\n",
              "    \n",
              "    \n",
              "        <p>All tests passed!</p>\n",
              "    \n",
              "    "
            ]
          },
          "metadata": {},
          "execution_count": 42
        }
      ]
    },
    {
      "cell_type": "markdown",
      "metadata": {
        "id": "5kCoNfZslgtG"
      },
      "source": [
        "## 8\n",
        "Use a função `shuffle()` para embaralhar a ordem dos elementos na lista. A função `shuffle` também está no submódulo `random` do módulo `numpy`, ou seja, precisa ser importada.\n",
        "\n",
        "Após tudo isso calcule a soma total de todas as áreas desses objetos que estão contidos na lista, e mostre o resultado.\n",
        "\n",
        "Salve a área total numa variável de nome `soma`"
      ]
    },
    {
      "cell_type": "code",
      "metadata": {
        "id": "g6Z3nBPZl88h"
      },
      "source": [
        "# Seu código aqui\n",
        "from numpy.random import shuffle\n",
        "\n",
        "shuffle(objs)\n",
        "soma = np.sum([obj.area() for obj in objs])"
      ],
      "execution_count": null,
      "outputs": []
    },
    {
      "cell_type": "code",
      "metadata": {
        "id": "SDygbVVOmGZj",
        "outputId": "9c3faa5d-7226-40a8-84e3-db52b9fdc055",
        "colab": {
          "base_uri": "https://localhost:8080/",
          "height": 46
        }
      },
      "source": [
        "ok.check('e01_8.py')"
      ],
      "execution_count": null,
      "outputs": [
        {
          "output_type": "execute_result",
          "data": {
            "text/plain": [
              "<gofer.ok.OKTestsResult at 0x7b6589363190>"
            ],
            "text/html": [
              "\n",
              "    \n",
              "    \n",
              "        <p>All tests passed!</p>\n",
              "    \n",
              "    "
            ]
          },
          "metadata": {},
          "execution_count": 22
        }
      ]
    }
  ]
}